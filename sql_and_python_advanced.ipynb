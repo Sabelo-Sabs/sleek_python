{
 "cells": [
  {
   "cell_type": "code",
   "execution_count": null,
   "metadata": {},
   "outputs": [],
   "source": [
    "import pandas as pd\n",
    "import sqlite3"
   ]
  },
  {
   "cell_type": "markdown",
   "metadata": {
    "id": "TCCAfrQxKUaj"
   },
   "source": [
    "# **Exercise 1:**"
   ]
  },
  {
   "cell_type": "markdown",
   "metadata": {
    "id": "fGJroJzCJ1Cj"
   },
   "source": [
    "---\n"
   ]
  },
  {
   "cell_type": "markdown",
   "metadata": {
    "id": "JTmKiUFlKgWd"
   },
   "source": [
    "# **Exercise 2:**"
   ]
  },
  {
   "cell_type": "markdown",
   "metadata": {
    "id": "WzZxIZiOJ2Kf"
   },
   "source": [
    "----"
   ]
  },
  {
   "cell_type": "markdown",
   "metadata": {
    "id": "wxBgmgwtKop8"
   },
   "source": [
    "# **Exercise 3:Set up connections to sqllite**"
   ]
  },
  {
   "cell_type": "code",
   "execution_count": null,
   "metadata": {},
   "outputs": [],
   "source": [
    "# Path to your SQLite database\n",
    "database_path = 'HumanRes.db'\n",
    "\n",
    "# Create a connection to the database\n",
    "conn = sqlite3.connect(database_path)\n",
    "\n",
    "# SQL query you want to execute\n",
    "query = \"SELECT * FROM employees\"\n",
    "\n",
    "# Use pandas to read the SQL query\n",
    "df = pd.read_sql_query(query, conn)\n",
    "\n",
    "# Close the connection\n",
    "conn.close()\n",
    "\n",
    "df\n"
   ]
  },
  {
   "cell_type": "markdown",
   "metadata": {
    "id": "hMevzxfVJ2P7"
   },
   "source": [
    "---"
   ]
  },
  {
   "cell_type": "markdown",
   "metadata": {
    "id": "7-HITapAKqy2"
   },
   "source": [
    "# **Exercise 4:**"
   ]
  },
  {
   "cell_type": "code",
   "execution_count": 1,
   "metadata": {
    "id": "0uXGCMaXJ2Sa"
   },
   "outputs": [
    {
     "name": "stdout",
     "output_type": "stream",
     "text": [
      "olleH\n"
     ]
    }
   ],
   "source": [
    "#write your code here.\n",
    "#Exercice 1: \n",
    "\n",
    "\n",
    "def ReverseString(s):\n",
    "    # Ensure the input is indeed a string\n",
    "    if not isinstance(s, str):\n",
    "        return 'Error: Input must be a string'\n",
    "\n",
    "    # Reverse the string using slicing\n",
    "    return s[::-1]\n",
    "\n",
    "# Test the function with an example string\n",
    "result = ReverseString(\"Hello\")\n",
    "print(result) \n",
    "\n",
    "\n",
    "\n"
   ]
  },
  {
   "cell_type": "code",
   "execution_count": 2,
   "metadata": {},
   "outputs": [
    {
     "data": {
      "text/plain": [
       "'yrogetac'"
      ]
     },
     "execution_count": 2,
     "metadata": {},
     "output_type": "execute_result"
    }
   ],
   "source": [
    "ReverseString('category')"
   ]
  },
  {
   "cell_type": "code",
   "execution_count": 4,
   "metadata": {},
   "outputs": [
    {
     "name": "stdout",
     "output_type": "stream",
     "text": [
      "6\n"
     ]
    }
   ],
   "source": [
    "#write your code here.\n",
    "#Exercice 2:\n",
    "\n",
    "def FindGreatestCommonDivisor(a, b):\n",
    "    # Check if the numbers are positive integers\n",
    "    if not (isinstance(a, int) and isinstance(b, int)):\n",
    "        return 'Error: Both inputs must be integers'\n",
    "\n",
    "    if (a <= 0) or (b <= 0):\n",
    "        return 'Error: Both numbers must be greater than zero'\n",
    "\n",
    "    # Euclidean algorithm for finding the GCD\n",
    "    while b:\n",
    "        a, b = b, a % b\n",
    "    return a\n",
    "\n",
    "# Test the function with example numbers\n",
    "result = FindGreatestCommonDivisor(12, 18)\n",
    "print(result)\n",
    "\n",
    "\n",
    "\n"
   ]
  },
  {
   "cell_type": "code",
   "execution_count": 5,
   "metadata": {},
   "outputs": [
    {
     "data": {
      "text/plain": [
       "4"
      ]
     },
     "execution_count": 5,
     "metadata": {},
     "output_type": "execute_result"
    }
   ],
   "source": [
    "FindGreatestCommonDivisor(4,40)"
   ]
  },
  {
   "cell_type": "code",
   "execution_count": 7,
   "metadata": {},
   "outputs": [
    {
     "name": "stdout",
     "output_type": "stream",
     "text": [
      "120\n"
     ]
    }
   ],
   "source": [
    "#write your code here.\n",
    "#Exercice 3:\n",
    "\n",
    "def CalculateFactorial(n):\n",
    "    # Check if the input is a positive integer\n",
    "    if not isinstance(n, int) or n < 0:\n",
    "        return \"Error: Input must be a non-negative integer.\"\n",
    "\n",
    "    # Start with 1 as the initial factorial value for 0 or 1\n",
    "    factorial = 1\n",
    "\n",
    "    # Calculate the factorial iteratively\n",
    "    for i in range(1, n + 1):\n",
    "        factorial *= i\n",
    "\n",
    "    return factorial\n",
    "\n",
    "# Test the function with an example number\n",
    "result = CalculateFactorial(5)\n",
    "print(result)"
   ]
  },
  {
   "cell_type": "code",
   "execution_count": 8,
   "metadata": {},
   "outputs": [
    {
     "data": {
      "text/plain": [
       "263130836933693530167218012160000000"
      ]
     },
     "execution_count": 8,
     "metadata": {},
     "output_type": "execute_result"
    }
   ],
   "source": [
    "CalculateFactorial(32)"
   ]
  },
  {
   "cell_type": "markdown",
   "metadata": {},
   "source": [
    "# **Exercise 5:**"
   ]
  },
  {
   "cell_type": "code",
   "execution_count": null,
   "metadata": {},
   "outputs": [],
   "source": [
    "#1. Find the names and salaries of all employees whose salary is between 9000 and 10000.\n",
    "\n",
    "--\"\"\"\n",
    "--sql\n",
    "\n",
    "SELECT first_name, last_name, salary\n",
    "FROM employees\n",
    "WHERE salary BETWEEN 9000 AND 10000;\n",
    "\n",
    ";\n",
    "\"\"\"\n"
   ]
  },
  {
   "cell_type": "code",
   "execution_count": null,
   "metadata": {
    "scrolled": true
   },
   "outputs": [],
   "source": [
    "# 2. Find the names, salaries, and department numbers of all employees whose salary is higher than 8000.\n",
    "\n",
    "--\"\"\"\n",
    "--sql\n",
    "\n",
    "SELECT first_name, last_name, salary, department_number\n",
    "FROM employees\n",
    "WHERE salary > 8000;\n",
    "\n",
    ";\n",
    "\"\"\""
   ]
  },
  {
   "cell_type": "code",
   "execution_count": null,
   "metadata": {},
   "outputs": [],
   "source": [
    "# 3. Find the names of all employees who work in the Sales department\n",
    "--\"\"\"\n",
    "--sql\n",
    "\n",
    "SELECT e.first_name, e.last_name\n",
    "FROM employees e\n",
    "INNER JOIN departments d ON e.department_id = d.department_id\n",
    "WHERE d.department_name = 'Sales';\n",
    "\n",
    "\n",
    ";\n",
    "\"\"\"\n"
   ]
  },
  {
   "cell_type": "code",
   "execution_count": null,
   "metadata": {},
   "outputs": [],
   "source": [
    "#4. Find the names and salaries of all employees who have been hired before September 1987\n",
    "\n",
    "--\"\"\"\n",
    "--sql\n",
    "SELECT first_name, last_name, salary\n",
    "FROM employees\n",
    "WHERE hire_date < '1987-09-01';\n",
    "\n",
    "\n",
    ";\n",
    "\"\"\"\n"
   ]
  },
  {
   "cell_type": "code",
   "execution_count": null,
   "metadata": {},
   "outputs": [],
   "source": [
    "#5. Find the names and salaries of the highest-paid employees in each department.\n",
    "\n",
    "--\"\"\"\n",
    "--sql\n",
    "\n",
    "SELECT e.department_id, e.first_name, e.last_name, e.salary\n",
    "FROM employees e\n",
    "INNER JOIN (\n",
    "    SELECT department_id, MAX(salary) AS max_salary\n",
    "    FROM employees\n",
    "    GROUP BY department_id\n",
    ") max_salaries\n",
    "ON e.department_id = max_salaries.department_id\n",
    "AND e.salary = max_salaries.max_salary;\n",
    "\n",
    "\n",
    "\n",
    ";\n",
    "\"\"\"\n"
   ]
  },
  {
   "cell_type": "code",
   "execution_count": null,
   "metadata": {},
   "outputs": [],
   "source": [
    "#6. Find the average salary (of all employees) in each department.\n",
    "\n",
    "--\"\"\"\n",
    "--sql\n",
    "\n",
    "SELECT department_id, AVG(salary) AS avg_salary\n",
    "FROM employees\n",
    "GROUP BY department_id;\n",
    "\n",
    ";\n",
    "\"\"\"\n"
   ]
  },
  {
   "cell_type": "code",
   "execution_count": null,
   "metadata": {},
   "outputs": [],
   "source": [
    "#7. Find the total number of employees in each department.\n",
    "\n",
    "--\"\"\"\n",
    "--sql\n",
    "\n",
    "SELECT department_id, COUNT(*) AS total_employees\n",
    "FROM employees\n",
    "GROUP BY department_id;\n",
    "\n",
    ";\n",
    "\"\"\"\n"
   ]
  },
  {
   "cell_type": "code",
   "execution_count": null,
   "metadata": {},
   "outputs": [],
   "source": [
    "#8. Find the names and salaries of all employees who have a manager who earns more than them.\n",
    "\n",
    "--\"\"\"\n",
    "--sql\n",
    "\n",
    "SELECT e1.first_name, e1.last_name, e1.salary\n",
    "FROM employees e1\n",
    "INNER JOIN employees e2 ON e1.manager_id = e2.employee_id AND e1.salary < e2.salary;\n",
    "\n",
    ";\n",
    "\"\"\"\n"
   ]
  },
  {
   "cell_type": "code",
   "execution_count": null,
   "metadata": {},
   "outputs": [],
   "source": [
    "#9. Write a SQL query to find those employees whose first name contains the letters D, S, or N. Sort the result-set in descending order by salary. Return all fields.\n",
    "\n",
    "--\"\"\"\n",
    "--sql\n",
    "\n",
    "SELECT *\n",
    "FROM employees\n",
    "WHERE first_name LIKE '%D%' OR first_name LIKE '%S%' OR first_name LIKE '%N%'\n",
    "ORDER BY salary DESC;\n",
    "\n",
    ";\n",
    "\"\"\"\n"
   ]
  },
  {
   "cell_type": "code",
   "execution_count": null,
   "metadata": {},
   "outputs": [],
   "source": [
    "# 10. Return full name (first name and last name together), hire_date, salary and department_id of each employee\n",
    "--\"\"\"\n",
    "--sql\n",
    "\n",
    "SELECT CONCAT(first_name, ' ', last_name) AS full_name, hire_date, salary, department_id\n",
    "FROM employees;\n",
    "\n",
    ";\n",
    "\"\"\" \n"
   ]
  },
  {
   "cell_type": "markdown",
   "metadata": {
    "id": "lXBOaF4TLkKE"
   },
   "source": [
    "# **When you are done, save it as an .ipynb file and submit by email to  rockefellerr@cput.ac.za**"
   ]
  },
  {
   "cell_type": "markdown",
   "metadata": {
    "id": "LAdj31d0L0hS"
   },
   "source": [
    "## All the best!"
   ]
  }
 ],
 "metadata": {
  "colab": {
   "name": "Sample_Sheet_Test1_PDB470S.ipynb",
   "provenance": []
  },
  "kernelspec": {
   "display_name": "Python 3",
   "language": "python",
   "name": "python3"
  },
  "language_info": {
   "codemirror_mode": {
    "name": "ipython",
    "version": 3
   },
   "file_extension": ".py",
   "mimetype": "text/x-python",
   "name": "python",
   "nbconvert_exporter": "python",
   "pygments_lexer": "ipython3",
   "version": "3.10.8"
  },
  "vscode": {
   "interpreter": {
    "hash": "dea03218bd8b974b5e709ea831a8aea013d32924d8b75cf5bd9c9334367ef928"
   }
  }
 },
 "nbformat": 4,
 "nbformat_minor": 1
}
